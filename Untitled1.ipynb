{
  "nbformat": 4,
  "nbformat_minor": 0,
  "metadata": {
    "colab": {
      "name": "Untitled1.ipynb",
      "provenance": [],
      "authorship_tag": "ABX9TyPXs1ZVWSlG7nKAX3gvr2y5",
      "include_colab_link": true
    },
    "kernelspec": {
      "name": "python3",
      "display_name": "Python 3"
    }
  },
  "cells": [
    {
      "cell_type": "markdown",
      "metadata": {
        "id": "view-in-github",
        "colab_type": "text"
      },
      "source": [
        "<a href=\"https://colab.research.google.com/github/Shubham0027/Githubproject/blob/main/Untitled1.ipynb\" target=\"_parent\"><img src=\"https://colab.research.google.com/assets/colab-badge.svg\" alt=\"Open In Colab\"/></a>"
      ]
    },
    {
      "cell_type": "code",
      "metadata": {
        "colab": {
          "base_uri": "https://localhost:8080/"
        },
        "id": "UF-5MHM-KFge",
        "outputId": "4d68e2a9-5a79-4233-e2f2-5058220a91c7"
      },
      "source": [
        "input=input()\r\n",
        "Vowels = {x: input.count(x) for x in \"aeiou\"}\r\n",
        "print(\"vowels in sentence—\"+str(list(Vowels.keys()))+\"\\n Each vowel repeated as—\"+str(list(Vowels.values())))"
      ],
      "execution_count": 1,
      "outputs": [
        {
          "output_type": "stream",
          "text": [
            "Mr X is working in Grads IT\n",
            "vowels in sentence—['a', 'e', 'i', 'o', 'u']\n",
            " Each vowel repeated as—[1, 0, 3, 1, 0]\n"
          ],
          "name": "stdout"
        }
      ]
    },
    {
      "cell_type": "code",
      "metadata": {
        "id": "tvt3tJxJKNvk"
      },
      "source": [
        ""
      ],
      "execution_count": null,
      "outputs": []
    }
  ]
}