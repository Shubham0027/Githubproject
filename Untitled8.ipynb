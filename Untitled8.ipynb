{
  "nbformat": 4,
  "nbformat_minor": 0,
  "metadata": {
    "colab": {
      "name": "Untitled8.ipynb",
      "provenance": [],
      "authorship_tag": "ABX9TyPnxu0V67BPrU8HyXdhUuZV",
      "include_colab_link": true
    },
    "kernelspec": {
      "name": "python3",
      "display_name": "Python 3"
    },
    "language_info": {
      "name": "python"
    }
  },
  "cells": [
    {
      "cell_type": "markdown",
      "metadata": {
        "id": "view-in-github",
        "colab_type": "text"
      },
      "source": [
        "<a href=\"https://colab.research.google.com/github/Shubham0027/Githubproject/blob/main/Untitled8.ipynb\" target=\"_parent\"><img src=\"https://colab.research.google.com/assets/colab-badge.svg\" alt=\"Open In Colab\"/></a>"
      ]
    },
    {
      "cell_type": "code",
      "metadata": {
        "colab": {
          "base_uri": "https://localhost:8080/"
        },
        "id": "ctGfolZ5CzMm",
        "outputId": "b7a0ac05-911b-4717-e1a5-792c1958e46a"
      },
      "source": [
        "class sort:\n",
        "  def __init__(self,list):\n",
        "    self.list=list\n",
        "    self.c1=0\n",
        "    self.c2=0\n",
        "  def insertion(self):\n",
        "    for j in range(1,len(self.list)):\n",
        "      self.c1+=1\n",
        "      key=self.list[j]\n",
        "      i=j-1\n",
        "      while(i>=0 and self.list[i]>key):\n",
        "        self.c2+=1\n",
        "        self.list[i+1]=self.list[i]\n",
        "        i=i-1\n",
        "      self.list[i+1] = key\n",
        "    return self.list\n",
        "\n",
        "list=[2,7,6,4,8]\n",
        "s=sort(list)\n",
        "a = s.insertion()\n",
        "print(a)\n",
        "print(\"For loop is running \",s.c1,\"Times\")\n",
        "print(\"while loop is running \",s.c2,\"Times\")\n",
        "\n",
        "\n"
      ],
      "execution_count": null,
      "outputs": [
        {
          "output_type": "stream",
          "text": [
            "[2, 4, 6, 7, 8]\n",
            "For loop is running  4 Times\n",
            "while loop is running  3 Times\n"
          ],
          "name": "stdout"
        }
      ]
    },
    {
      "cell_type": "code",
      "metadata": {
        "id": "SE9F-XYtC0yX",
        "colab": {
          "base_uri": "https://localhost:8080/"
        },
        "outputId": "c6ccd4ad-f02f-4183-e8da-8172de015926"
      },
      "source": [
        "class sort:\n",
        "  def __init__(self,list):\n",
        "    self.list=list\n",
        "    self.c1=0\n",
        "    self.c2=0\n",
        "  def insertion(self):\n",
        "    for j in range(1,len(self.list)):\n",
        "      self.c1+=1\n",
        "      key=self.list[j]\n",
        "      i=j-1\n",
        "      while(i>=0 and self.list[i]>key):\n",
        "        self.c2+=1\n",
        "        self.list[i+1]=self.list[i]\n",
        "        i=i-1\n",
        "      self.list[i+1] = key\n",
        "    return self.list\n",
        "\n",
        "list=[2,8,6,4,9]\n",
        "s=sort(list)\n",
        "a = s.insertion()\n",
        "print(a)\n",
        "print(\"For loop is running \",s.c1,\"Times\")\n",
        "print(\"while loop is running \",s.c2,\"Times\")\n",
        "\n",
        "\n"
      ],
      "execution_count": 4,
      "outputs": [
        {
          "output_type": "stream",
          "text": [
            "[2, 4, 6, 8, 9]\n",
            "For loop is running  4 Times\n",
            "while loop is running  3 Times\n"
          ],
          "name": "stdout"
        }
      ]
    },
    {
      "cell_type": "code",
      "metadata": {
        "id": "VqZZEKHPDO6t"
      },
      "source": [
        ""
      ],
      "execution_count": null,
      "outputs": []
    }
  ]
}